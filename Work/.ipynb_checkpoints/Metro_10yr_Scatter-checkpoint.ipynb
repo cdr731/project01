{
 "cells": [
  {
   "cell_type": "code",
   "execution_count": 1,
   "metadata": {},
   "outputs": [
    {
     "data": {
      "application/javascript": [
       "IPython.notebook.set_autosave_interval(0)"
      ]
     },
     "metadata": {},
     "output_type": "display_data"
    },
    {
     "name": "stdout",
     "output_type": "stream",
     "text": [
      "Autosave disabled\n"
     ]
    }
   ],
   "source": [
    "%autosave 0\n",
    "# Dependencies\n",
    "import pandas as pd\n",
    "import matplotlib.pyplot as plt\n",
    "from scipy.stats import linregress\n",
    "import numpy as np"
   ]
  },
  {
   "cell_type": "code",
   "execution_count": 2,
   "metadata": {},
   "outputs": [],
   "source": [
    "# Store filepaths in variables.\n",
    "file_metro_medvalue = \"../Datasets/Affordability_ChainedZHVI_2018Q4.csv\"\n",
    "file_metro_medHHinc = \"../Datasets/Affordability_Income_2018Q4.csv\"\n",
    "file_metro_crosswlk = \"../Datasets/CountyCrossWalk_Zillow.csv\"\n",
    "file_census_pop = \"../Datasets/PEP_2017_GCTPEPANNR.US23PR.csv\""
   ]
  },
  {
   "cell_type": "code",
   "execution_count": 3,
   "metadata": {},
   "outputs": [],
   "source": [
    "# Read our Data file with the pandas library, and create dataframes.\n",
    "# The Zillow CSV files require ISO-8859-1 encoding.\n",
    "medvalue_df = pd.read_csv(file_metro_medvalue, encoding=\"ISO-8859-1\") # Zillow Home Value Index (ZHVI)\n",
    "medHHinc_df = pd.read_csv(file_metro_medHHinc, encoding=\"ISO-8859-1\") # Median Household (HH) Income\n",
    "crosswlk_df = pd.read_csv(file_metro_crosswlk, encoding=\"ISO-8859-1\") # Crosswalk of Zillow MSA name to Census Bureau code\n",
    "censuspop_df = pd.read_csv(file_census_pop, encoding=\"ISO-8859-1\") # US Census Bureau population estimates by MSA"
   ]
  },
  {
   "cell_type": "code",
   "execution_count": 4,
   "metadata": {},
   "outputs": [],
   "source": [
    "# Preparing the Home Value dataframe.\n",
    "medvalue_10yr_df = medvalue_df[[\"RegionID\", \"RegionName\", \"SizeRank\", \"2008-12\", \"2018-12\"]]\n",
    "medvalue_10yr_df = medvalue_10yr_df.set_index(\"RegionID\")\n",
    "medvalue_10yr_df = medvalue_10yr_df.rename(columns={\"RegionName\" : \"Metro Name\",\n",
    "                                                    \"SizeRank\" : \"Metro Rank\",\n",
    "                                                    \"2008-12\" : \"2008-Q4 Home Value\",\n",
    "                                                    \"2018-12\" : \"2018-Q4 Home Value\"\n",
    "                                                   })\n",
    "medvalue_10yr_df = medvalue_10yr_df.dropna(how=\"any\")\n",
    "\n",
    "medvalue_10yr_df[\"10-Yr Home Value Chg\"] = (medvalue_10yr_df.iloc[:,3] - medvalue_10yr_df.iloc[:,2]) / \\\n",
    "                                           medvalue_10yr_df.iloc[:,2]"
   ]
  },
  {
   "cell_type": "code",
   "execution_count": 5,
   "metadata": {
    "scrolled": true
   },
   "outputs": [],
   "source": [
    "# Preparing the Median Household Income dataframe.\n",
    "medHHinc_10yr_df = medHHinc_df[[\"RegionID\", \"RegionName\", \"SizeRank\", \"2008-12\", \"2018-12\"]]\n",
    "medHHinc_10yr_df = medHHinc_10yr_df.set_index(\"RegionID\")\n",
    "medHHinc_10yr_df = medHHinc_10yr_df.rename(columns={\"RegionName\" : \"Metro Name\",\n",
    "                                                    \"SizeRank\" : \"Metro Rank\",\n",
    "                                                    \"2008-12\" : \"2008-Q4 HH Income\",\n",
    "                                                    \"2018-12\" : \"2018-Q4 HH Income\"\n",
    "                                                   })\n",
    "medHHinc_10yr_df = medHHinc_10yr_df.dropna(how=\"any\")\n",
    "\n",
    "medHHinc_10yr_df[\"10-Yr HH Income Chg\"] = (medHHinc_10yr_df.iloc[:,3] - medHHinc_10yr_df.iloc[:,2]) / \\\n",
    "                                           medHHinc_10yr_df.iloc[:,2]"
   ]
  },
  {
   "cell_type": "code",
   "execution_count": 6,
   "metadata": {
    "scrolled": true
   },
   "outputs": [],
   "source": [
    "# Join both datasets\n",
    "metro_10yr_df = pd.merge(medvalue_10yr_df, medHHinc_10yr_df, on=\"RegionID\")\n",
    "metro_10yr_df = metro_10yr_df.drop(columns=[\"Metro Name_y\", 'Metro Rank_y'])\n",
    "metro_10yr_df = metro_10yr_df.rename(columns={\"Metro Name_x\" : \"Metro Name\",\n",
    "                                              \"Metro Rank_x\" : \"Metro Rank\"\n",
    "                                             })\n",
    "metro_10yr_df[\"10-Yr Home Value Chg\"] *= 100\n",
    "metro_10yr_df[\"10-Yr HH Income Chg\"] *= 100"
   ]
  },
  {
   "cell_type": "code",
   "execution_count": 7,
   "metadata": {
    "scrolled": true
   },
   "outputs": [],
   "source": [
    "# Preparing the crosswalk dataframe, population dataframe,\n",
    "# and join them both.\n",
    "cross_walk_df = crosswlk_df[[\"MetroRegionID_Zillow\", \"CBSACode\"]]\n",
    "cross_walk_df = cross_walk_df.rename(columns={\"MetroRegionID_Zillow\" : \"RegionID\",\n",
    "                                              \"CBSACode\": \"Metro Code\"\n",
    "                                             })\n",
    "population_df = censuspop_df[[\"GC.target-geo-id2\", \"respop72017\"]]\n",
    "population_df = population_df.rename(columns={\"GC.target-geo-id2\" : \"Metro Code\",\n",
    "                                              \"respop72017\": \"Population\"\n",
    "                                             })\n",
    "metro_pop_df = pd.merge(cross_walk_df, population_df, on=\"Metro Code\")\n",
    "metro_pop_df = metro_pop_df.dropna(how=\"any\")\n",
    "metro_pop_df = metro_pop_df.drop_duplicates(keep=\"first\").reset_index(drop=True)\n",
    "metro_pop_df[\"RegionID\"] = metro_pop_df.RegionID.astype(int)\n",
    "metro_pop_df = metro_pop_df.set_index(\"RegionID\")"
   ]
  },
  {
   "cell_type": "code",
   "execution_count": 8,
   "metadata": {},
   "outputs": [],
   "source": [
    "# Join population counts to the combined income and home value dataframe\n",
    "metro_main_df = pd.merge(metro_10yr_df, metro_pop_df, on=\"RegionID\", how=\"left\")\n",
    "metro_main_df = metro_main_df.drop(columns=[\"Metro Code\"])\n",
    "\n",
    "# The US as a whole is not an MSA, so it doesn't have a metro code.  \n",
    "# All datasets place the US in the first row so copy the population with a loc reference.\n",
    "metro_main_df.loc[102001, \"Population\"] = population_df.loc[0,\"Population\"]"
   ]
  },
  {
   "cell_type": "code",
   "execution_count": 9,
   "metadata": {},
   "outputs": [],
   "source": [
    "# Remove United States row (not a Metro) from the Metro dataframe\n",
    "\n",
    "# First store value US values into a list\n",
    "# We can use these values later for a comparison\n",
    "# Using iloc ---> US_data = metro_10yr_df.iloc[0, :]\n",
    "US_data = metro_main_df.loc[102001, :]\n",
    "\n",
    "# Metro dataframe will include only the metros\n",
    "# Using iloc ---> metro_10yr_df = metro_10yr_df.iloc[1: , :]\n",
    "metro_main_df = metro_main_df.loc[394913: , :]"
   ]
  },
  {
   "cell_type": "code",
   "execution_count": 10,
   "metadata": {},
   "outputs": [
    {
     "data": {
      "image/png": "[encoded data removed]",
      "text/plain": [
       "<Figure size 432x288 with 1 Axes>"
      ]
     },
     "metadata": {
      "needs_background": "light"
     },
     "output_type": "display_data"
    }
   ],
   "source": [
    "# Create scatterplot\n",
    "income_chg = metro_main_df[\"10-Yr HH Income Chg\"]\n",
    "value_chg = metro_main_df[\"10-Yr Home Value Chg\"]\n",
    "\n",
    "plt.scatter(income_chg, value_chg, marker=\"o\", facecolor=\"skyblue\", edgecolor=\"grey\",\n",
    "            linewidth=0.75, zorder=2, s=metro_main_df[\"Population\"]/25000)\n",
    "plt.xlabel(\"10-Year Chg in Med HH Income (%)\")\n",
    "plt.ylabel(\"10-Year Chg in Med Home Value (%)\")\n",
    "plt.title(\"10-Year Home Value vs. Income Appreciation\")\n",
    "\n",
    "# Create a regression line\n",
    "(slope, intercept, _, _, _) = linregress(income_chg, value_chg)\n",
    "fit = slope * income_chg + intercept\n",
    "plt.plot(income_chg, fit, '--', zorder=3, color=\"red\", linewidth=1)\n",
    "\n",
    "# Draw a line that shows an where median home values increase\n",
    "# at the same rate as median HH income\n",
    "plt.plot(income_chg, income_chg, zorder=3, color='grey', linewidth=0.75)\n",
    "\n",
    "# Create gridlines\n",
    "plt.axhline(y=0, color='grey', zorder=1, linewidth=0.75)\n",
    "plt.axvline(x=0, color='grey', zorder=1, linewidth=0.75)\n",
    "plt.grid(color='grey', zorder=1, linestyle='dotted', linewidth=0.5)\n",
    "plt.savefig(\"metro_scatter.png\", dpi=180, bbox_inches=\"tight\")"
   ]
  },
  {
   "cell_type": "code",
   "execution_count": 11,
   "metadata": {},
   "outputs": [
    {
     "data": {
      "text/html": [
       "<div>\n",
       "<style scoped>\n",
       "    .dataframe tbody tr th:only-of-type {\n",
       "        vertical-align: middle;\n",
       "    }\n",
       "\n",
       "    .dataframe tbody tr th {\n",
       "        vertical-align: top;\n",
       "    }\n",
       "\n",
       "    .dataframe thead th {\n",
       "        text-align: right;\n",
       "    }\n",
       "</style>\n",
       "<table border=\"1\" class=\"dataframe\">\n",
       "  <thead>\n",
       "    <tr style=\"text-align: right;\">\n",
       "      <th></th>\n",
       "      <th>Metro Name</th>\n",
       "      <th>Metro Rank</th>\n",
       "      <th>2008-Q4 Home Value</th>\n",
       "      <th>2018-Q4 Home Value</th>\n",
       "      <th>10-Yr Home Value Chg</th>\n",
       "      <th>2008-Q4 HH Income</th>\n",
       "      <th>2018-Q4 HH Income</th>\n",
       "      <th>10-Yr HH Income Chg</th>\n",
       "      <th>Population</th>\n",
       "    </tr>\n",
       "    <tr>\n",
       "      <th>RegionID</th>\n",
       "      <th></th>\n",
       "      <th></th>\n",
       "      <th></th>\n",
       "      <th></th>\n",
       "      <th></th>\n",
       "      <th></th>\n",
       "      <th></th>\n",
       "      <th></th>\n",
       "      <th></th>\n",
       "    </tr>\n",
       "  </thead>\n",
       "  <tbody>\n",
       "    <tr>\n",
       "      <th>394913</th>\n",
       "      <td>New York, NY</td>\n",
       "      <td>1</td>\n",
       "      <td>$394,500</td>\n",
       "      <td>$437,300</td>\n",
       "      <td>10.8%</td>\n",
       "      <td>$67,115</td>\n",
       "      <td>$79,370</td>\n",
       "      <td>18.3%</td>\n",
       "      <td>20,320,876</td>\n",
       "    </tr>\n",
       "    <tr>\n",
       "      <th>753899</th>\n",
       "      <td>Los Angeles-Long Beach-Anaheim, CA</td>\n",
       "      <td>2</td>\n",
       "      <td>$444,600</td>\n",
       "      <td>$650,200</td>\n",
       "      <td>46.2%</td>\n",
       "      <td>$59,422</td>\n",
       "      <td>$73,574</td>\n",
       "      <td>23.8%</td>\n",
       "      <td>13,353,907</td>\n",
       "    </tr>\n",
       "    <tr>\n",
       "      <th>394463</th>\n",
       "      <td>Chicago, IL</td>\n",
       "      <td>3</td>\n",
       "      <td>$221,300</td>\n",
       "      <td>$224,200</td>\n",
       "      <td>1.3%</td>\n",
       "      <td>$60,396</td>\n",
       "      <td>$71,481</td>\n",
       "      <td>18.4%</td>\n",
       "      <td>9,533,040</td>\n",
       "    </tr>\n",
       "    <tr>\n",
       "      <th>394514</th>\n",
       "      <td>Dallas-Fort Worth, TX</td>\n",
       "      <td>4</td>\n",
       "      <td>$145,100</td>\n",
       "      <td>$240,200</td>\n",
       "      <td>65.5%</td>\n",
       "      <td>$57,718</td>\n",
       "      <td>$70,361</td>\n",
       "      <td>21.9%</td>\n",
       "      <td>7,399,662</td>\n",
       "    </tr>\n",
       "    <tr>\n",
       "      <th>394974</th>\n",
       "      <td>Philadelphia, PA</td>\n",
       "      <td>5</td>\n",
       "      <td>$220,900</td>\n",
       "      <td>$231,800</td>\n",
       "      <td>4.9%</td>\n",
       "      <td>$60,496</td>\n",
       "      <td>$71,577</td>\n",
       "      <td>18.3%</td>\n",
       "      <td>6,096,120</td>\n",
       "    </tr>\n",
       "  </tbody>\n",
       "</table>\n",
       "</div>"
      ],
      "text/plain": [
       "                                  Metro Name  Metro Rank 2008-Q4 Home Value  \\\n",
       "RegionID                                                                      \n",
       "394913                          New York, NY           1           $394,500   \n",
       "753899    Los Angeles-Long Beach-Anaheim, CA           2           $444,600   \n",
       "394463                           Chicago, IL           3           $221,300   \n",
       "394514                 Dallas-Fort Worth, TX           4           $145,100   \n",
       "394974                      Philadelphia, PA           5           $220,900   \n",
       "\n",
       "         2018-Q4 Home Value 10-Yr Home Value Chg 2008-Q4 HH Income  \\\n",
       "RegionID                                                             \n",
       "394913             $437,300                10.8%           $67,115   \n",
       "753899             $650,200                46.2%           $59,422   \n",
       "394463             $224,200                 1.3%           $60,396   \n",
       "394514             $240,200                65.5%           $57,718   \n",
       "394974             $231,800                 4.9%           $60,496   \n",
       "\n",
       "         2018-Q4 HH Income 10-Yr HH Income Chg  Population  \n",
       "RegionID                                                    \n",
       "394913             $79,370               18.3%  20,320,876  \n",
       "753899             $73,574               23.8%  13,353,907  \n",
       "394463             $71,481               18.4%   9,533,040  \n",
       "394514             $70,361               21.9%   7,399,662  \n",
       "394974             $71,577               18.3%   6,096,120  "
      ]
     },
     "execution_count": 11,
     "metadata": {},
     "output_type": "execute_result"
    }
   ],
   "source": [
    "# Put into a readable format Dataframe\n",
    "metro_frmt_df = metro_main_df.copy()\n",
    "metro_frmt_df[\"2008-Q4 Home Value\"] = metro_frmt_df[\"2008-Q4 Home Value\"].map(\"${:,.0f}\".format)\n",
    "metro_frmt_df[\"2018-Q4 Home Value\"] = metro_frmt_df[\"2018-Q4 Home Value\"].map(\"${:,.0f}\".format)\n",
    "metro_frmt_df[\"10-Yr Home Value Chg\"] = metro_frmt_df[\"10-Yr Home Value Chg\"].map(\"{:,.1f}%\".format)\n",
    "metro_frmt_df[\"2008-Q4 HH Income\"] = metro_frmt_df[\"2008-Q4 HH Income\"].map(\"${:,.0f}\".format)\n",
    "metro_frmt_df[\"2018-Q4 HH Income\"] = metro_frmt_df[\"2018-Q4 HH Income\"].map(\"${:,.0f}\".format)\n",
    "metro_frmt_df[\"10-Yr HH Income Chg\"] = metro_frmt_df[\"10-Yr HH Income Chg\"].map(\"{:,.1f}%\".format)\n",
    "metro_frmt_df[\"Population\"] = metro_frmt_df[\"Population\"].map(\"{:,.0f}\".format)\n",
    "\n",
    "metro_frmt_df.head()"
   ]
  },
  {
   "cell_type": "code",
   "execution_count": null,
   "metadata": {},
   "outputs": [],
   "source": []
  },
  {
   "cell_type": "code",
   "execution_count": null,
   "metadata": {},
   "outputs": [],
   "source": []
  }
 ],
 "metadata": {
  "anaconda-cloud": {},
  "kernelspec": {
   "display_name": "Python 3",
   "language": "python",
   "name": "python3"
  },
  "language_info": {
   "codemirror_mode": {
    "name": "ipython",
    "version": 3
   },
   "file_extension": ".py",
   "mimetype": "text/x-python",
   "name": "python",
   "nbconvert_exporter": "python",
   "pygments_lexer": "ipython3",
   "version": "3.7.2"
  }
 },
 "nbformat": 4,
 "nbformat_minor": 2
}
